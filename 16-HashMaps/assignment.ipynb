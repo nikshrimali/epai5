{
 "cells": [
  {
   "cell_type": "markdown",
   "metadata": {},
   "source": [
    "Build a Dynamic Inventory System Using Nested Dictionaries\n",
    "\n",
    "Objective:\n",
    "\n",
    "You will create a dynamic inventory management system where each item in the inventory is represented by a nested dictionary. The inventory will allow for real-time updates, including adding new items, updating existing items, and retrieving information based on complex queries.\n",
    "\n",
    "Requirements:\n",
    "\n",
    "The outer dictionary represents categories (e.g., electronics, groceries).\n",
    "Each category contains a nested dictionary representing individual items, with keys such as \"name\", \"price\", \"quantity\", etc.\n",
    "Key Tasks:\n",
    "\n",
    "Create Inventory: Populate the inventory using different dictionary creation methods, including dictionary comprehensions and dict() constructor.\n",
    "Update & Merge: Allow users to update item information (e.g., increasing stock, updating price) and merge two inventory systems.\n",
    "Querying: Write functions to: Retrieve all items in a category. Find the most expensive item in the inventory. Check if an item is in stock and return its details.\n",
    "Dictionary Views: Implement functionality to view available categories (keys), all items (values), and category-item pairs (items view).\n",
    "Serialization: Implement functionality to copy the entire inventory structure, modify a copy independently, and use deep and shallow copying techniques.\n",
    "Challenges:\n",
    "\n",
    "Handling the complex nested dictionary structure dynamically.\n",
    "Merging multiple inventories while ensuring no data is lost.\n",
    "Managing deep copying versus shallow copying efficiently.\n",
    "Refer to the inventory_system.py Download inventory_system.pyfile and associated test_cases.py Download test_cases.py(and python-app.yml Download python-app.ymlfile). Complete the code, upload it to GitHub, and clear all actions/test cases. Once done, share a screenshot of your actions (if you're failing to work with GitHub, do this locally and then share a screenshot). Also, share your final code uploaded on GitHub. Please remember to upload python-app.yml to .github/workflows/python-app.yml as final path."
   ]
  },
  {
   "cell_type": "code",
   "execution_count": 6,
   "metadata": {},
   "outputs": [],
   "source": [
    "# {\n",
    "#     'Electronics': {}\n",
    "#     'items':[\n",
    "#         {\n",
    "#         'name':'',\n",
    "#         'price': '',\n",
    "#         'quantity':''\n",
    "#         }]\n",
    "# }\n",
    "\n",
    "items = dict.fromkeys(['name', 'price', 'quantity'], None)\n",
    "\n",
    "\n",
    "inventory = dict(Electronics= [items],Groceries=[items])\n"
   ]
  },
  {
   "cell_type": "code",
   "execution_count": 7,
   "metadata": {},
   "outputs": [
    {
     "data": {
      "text/plain": [
       "{'Electronics': [{'name': None, 'price': None, 'quantity': None}],\n",
       " 'Groceries': [{'name': None, 'price': None, 'quantity': None}]}"
      ]
     },
     "execution_count": 7,
     "metadata": {},
     "output_type": "execute_result"
    }
   ],
   "source": [
    "inventory"
   ]
  },
  {
   "cell_type": "code",
   "execution_count": 1,
   "metadata": {},
   "outputs": [
    {
     "ename": "TypeError",
     "evalue": "'set' object is not subscriptable",
     "output_type": "error",
     "traceback": [
      "\u001b[1;31m---------------------------------------------------------------------------\u001b[0m",
      "\u001b[1;31mTypeError\u001b[0m                                 Traceback (most recent call last)",
      "Cell \u001b[1;32mIn[1], line 2\u001b[0m\n\u001b[0;32m      1\u001b[0m set_elements \u001b[38;5;241m=\u001b[39m {\u001b[38;5;241m1\u001b[39m,\u001b[38;5;124m'\u001b[39m\u001b[38;5;124mrandom\u001b[39m\u001b[38;5;124m'\u001b[39m,\u001b[38;5;124m'\u001b[39m\u001b[38;5;124msample\u001b[39m\u001b[38;5;124m'\u001b[39m, \u001b[38;5;241m3.004\u001b[39m, \u001b[38;5;241m1\u001b[39m}\n\u001b[1;32m----> 2\u001b[0m \u001b[43mset_elements\u001b[49m\u001b[43m[\u001b[49m\u001b[38;5;241;43m0\u001b[39;49m\u001b[43m]\u001b[49m\n",
      "\u001b[1;31mTypeError\u001b[0m: 'set' object is not subscriptable"
     ]
    }
   ],
   "source": [
    "set_elements = {1,'random','sample', 3.004, 1}\n",
    "set_elements[0]"
   ]
  },
  {
   "cell_type": "code",
   "execution_count": 23,
   "metadata": {},
   "outputs": [],
   "source": [
    "catagories = {'Electronics': ['Laptop','Tablet'], 'Groceries':['Aata','Sugar']}\n",
    "electronics = {'name': 'Laptop', 'price': 1100, 'quantity': 3}\n",
    "\n",
    "# grid_extended= {catagory[''] for catagory in catagories}\n",
    "\n",
    "# {\n",
    "#             'Electronics': {\n",
    "#                 'Laptop': {'name': 'Laptop', 'price': 1100, 'quantity': 3},\n",
    "#                 'Tablet': {'name': 'Tablet', 'price': 500, 'quantity': 15}\n",
    "#             },\n",
    "#             'Clothing': {\n",
    "#                 'Jeans': {'name': 'Jeans', 'price': 40, 'quantity': 50}\n",
    "#             }\n",
    "#         }\n",
    "\n",
    "d = {}\n",
    "items = dict.fromkeys(['name', 'price', 'quantity'], None)\n",
    "inventory = dict(Electronics= [items],Groceries=[items])\n",
    "\n",
    "catagory = 'Electronics'\n",
    "subcatagory = 'Laptop'\n",
    "# inventory = items\n",
    "\n",
    "d['Electronics'] = {'Laptop':inventory}\n",
    "d['Groceries'] = {'Laptop':inventory}\n",
    "\n",
    "# d.merge()"
   ]
  },
  {
   "cell_type": "code",
   "execution_count": 24,
   "metadata": {},
   "outputs": [
    {
     "data": {
      "text/plain": [
       "{'Electronics': {'Laptop': {'name': None, 'price': None, 'quantity': None}}}"
      ]
     },
     "execution_count": 24,
     "metadata": {},
     "output_type": "execute_result"
    }
   ],
   "source": [
    "d"
   ]
  },
  {
   "cell_type": "code",
   "execution_count": 16,
   "metadata": {},
   "outputs": [
    {
     "ename": "SyntaxError",
     "evalue": "invalid syntax (3671533942.py, line 1)",
     "output_type": "error",
     "traceback": [
      "\u001b[1;36m  Cell \u001b[1;32mIn[16], line 1\u001b[1;36m\u001b[0m\n\u001b[1;33m    {keys: {values}} for values in catagories[keys] for keys in catagories.values()}\u001b[0m\n\u001b[1;37m                     ^\u001b[0m\n\u001b[1;31mSyntaxError\u001b[0m\u001b[1;31m:\u001b[0m invalid syntax\n"
     ]
    }
   ],
   "source": [
    "{keys: {values}} for values in catagories[keys] for keys in catagories.values()}"
   ]
  },
  {
   "cell_type": "code",
   "execution_count": null,
   "metadata": {},
   "outputs": [],
   "source": [
    "class itera:\n",
    "    def __init__(self):\n",
    "        pass\n",
    "    def __get_item():\n",
    "        return item[0]\n",
    "    def __\n"
   ]
  }
 ],
 "metadata": {
  "kernelspec": {
   "display_name": "dl",
   "language": "python",
   "name": "python3"
  },
  "language_info": {
   "codemirror_mode": {
    "name": "ipython",
    "version": 3
   },
   "file_extension": ".py",
   "mimetype": "text/x-python",
   "name": "python",
   "nbconvert_exporter": "python",
   "pygments_lexer": "ipython3",
   "version": "3.9.15"
  }
 },
 "nbformat": 4,
 "nbformat_minor": 2
}
